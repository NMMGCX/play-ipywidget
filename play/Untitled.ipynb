{
 "cells": [
  {
   "cell_type": "code",
   "execution_count": 1,
   "id": "2c10dba2-1da0-4f26-9ca3-36483b969222",
   "metadata": {},
   "outputs": [
    {
     "data": {
      "application/vnd.jupyter.widget-view+json": {
       "model_id": "6bfed0b7f2724e43a1f8a744572d736f",
       "version_major": 2,
       "version_minor": 0
      },
      "text/plain": [
       "IntProgress(value=0)"
      ]
     },
     "metadata": {},
     "output_type": "display_data"
    }
   ],
   "source": [
    "from time import sleep\n",
    "from ipywidgets import IntProgress\n",
    "from IPython.display import display\n",
    "\n",
    "f = IntProgress(min=0, max=100)\n",
    "display(f)\n",
    "\n",
    "for i in range(101):\n",
    "    f.value = i\n",
    "    sleep(0.1)"
   ]
  },
  {
   "cell_type": "code",
   "execution_count": 1,
   "id": "3d62b984-942a-4c18-bde6-854852c770ab",
   "metadata": {},
   "outputs": [
    {
     "ename": "NameError",
     "evalue": "name 'Email' is not defined",
     "output_type": "error",
     "traceback": [
      "\u001b[0;31m---------------------------------------------------------------------------\u001b[0m",
      "\u001b[0;31mNameError\u001b[0m                                 Traceback (most recent call last)",
      "Cell \u001b[0;32mIn[1], line 1\u001b[0m\n\u001b[0;32m----> 1\u001b[0m email \u001b[38;5;241m=\u001b[39m \u001b[43mEmail\u001b[49m(value\u001b[38;5;241m=\u001b[39m\u001b[38;5;124m'\u001b[39m\u001b[38;5;124mjohn.doe@domain.com\u001b[39m\u001b[38;5;124m'\u001b[39m, disabled\u001b[38;5;241m=\u001b[39m\u001b[38;5;28;01mFalse\u001b[39;00m)\n\u001b[1;32m      2\u001b[0m email\n",
      "\u001b[0;31mNameError\u001b[0m: name 'Email' is not defined"
     ]
    }
   ],
   "source": [
    "email = Email(value='john.doe@domain.com', disabled=False)\n",
    "email"
   ]
  },
  {
   "cell_type": "code",
   "execution_count": null,
   "id": "219ab447-1b7d-4b5d-8a1f-35bc9a31780d",
   "metadata": {},
   "outputs": [],
   "source": []
  }
 ],
 "metadata": {
  "kernelspec": {
   "display_name": "Python 3 (ipykernel)",
   "language": "python",
   "name": "python3"
  },
  "language_info": {
   "codemirror_mode": {
    "name": "ipython",
    "version": 3
   },
   "file_extension": ".py",
   "mimetype": "text/x-python",
   "name": "python",
   "nbconvert_exporter": "python",
   "pygments_lexer": "ipython3",
   "version": "3.11.3"
  }
 },
 "nbformat": 4,
 "nbformat_minor": 5
}
